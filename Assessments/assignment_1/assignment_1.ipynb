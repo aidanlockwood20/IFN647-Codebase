{
 "cells": [
  {
   "cell_type": "markdown",
   "id": "c3cd7426",
   "metadata": {},
   "source": [
    "# IFN647 Assignment 1\n",
    "- Student Number: n10515402\n",
    "- First Name: Aidan\n",
    "- Last Name: Lockwood\n"
   ]
  },
  {
   "cell_type": "markdown",
   "id": "bdd3aa10",
   "metadata": {},
   "source": [
    "Loading in the required packages"
   ]
  },
  {
   "cell_type": "code",
   "execution_count": 1,
   "id": "1d7657ae",
   "metadata": {},
   "outputs": [],
   "source": [
    "import numpy as np\n",
    "import stemming "
   ]
  },
  {
   "cell_type": "markdown",
   "id": "567ed1f6",
   "metadata": {},
   "source": []
  }
 ],
 "metadata": {
  "kernelspec": {
   "display_name": "ifn647_venv",
   "language": "python",
   "name": "python3"
  },
  "language_info": {
   "codemirror_mode": {
    "name": "ipython",
    "version": 3
   },
   "file_extension": ".py",
   "mimetype": "text/x-python",
   "name": "python",
   "nbconvert_exporter": "python",
   "pygments_lexer": "ipython3",
   "version": "3.12.9"
  }
 },
 "nbformat": 4,
 "nbformat_minor": 5
}
