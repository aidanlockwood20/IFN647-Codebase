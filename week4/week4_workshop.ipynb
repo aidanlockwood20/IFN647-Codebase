{
 "cells": [
  {
   "cell_type": "markdown",
   "metadata": {},
   "source": [
    "# IFN647 Week 4 Workshop"
   ]
  },
  {
   "cell_type": "markdown",
   "metadata": {},
   "source": [
    "## Task 3\n",
    "Designing a python function `c_df(docs)` to calculate the **df** value for each term in **docs** to verify if you can get the same result as you did in Task 2. The function returns a {term:df, ...} dictionary. In your program, you can represent the above table as follows when you use it to test your python function"
   ]
  },
  {
   "cell_type": "code",
   "execution_count": null,
   "metadata": {},
   "outputs": [
    {
     "name": "stdout",
     "output_type": "stream",
     "text": [
      "{'term1': 4, 'term4': 6, 'term5': 5, 'term2': 2, 'term3': 3}\n"
     ]
    }
   ],
   "source": [
    "def c_df(D):\n",
    "    term_freq = {}\n",
    "\n",
    "    for id, doc in D.items():\n",
    "        for term in doc.keys():\n",
    "            try: \n",
    "                term_freq[term] += 1\n",
    "            except KeyError:\n",
    "                term_freq[term] = 1\n",
    "\n",
    "    return term_freq\n",
    "\n",
    "docs = { \n",
    "    'D1' : {\n",
    "        'term1' : 3,\n",
    "        'term4': 5,\n",
    "        'term5': 7\n",
    "    },\n",
    "    'D2' : { \n",
    "        'term1': 5,\n",
    "        'term2': 3,\n",
    "        'term3': 4,\n",
    "        'term4': 6\n",
    "    },\n",
    "    'D3' : { \n",
    "        'term3': 5,\n",
    "        'term4': 4,\n",
    "        'term5': 6\n",
    "    },\n",
    "    'D4' : { \n",
    "        'term1': 9,\n",
    "        'term4': 1,\n",
    "        'term5': 2\n",
    "    },\n",
    "    'D5': { \n",
    "        'term2': 1,\n",
    "        'term4': 3,\n",
    "        'term5': 2\n",
    "    },\n",
    "    'D6': { \n",
    "        'term1': 3,\n",
    "        'term3': 2,\n",
    "        'term4': 4,\n",
    "        'term5': 4\n",
    "    }\n",
    "}\n",
    "\n",
    "\n",
    "print(c_df(docs))"
   ]
  },
  {
   "cell_type": "code",
   "execution_count": null,
   "metadata": {},
   "outputs": [],
   "source": []
  }
 ],
 "metadata": {
  "kernelspec": {
   "display_name": "ifn647_venv",
   "language": "python",
   "name": "python3"
  },
  "language_info": {
   "codemirror_mode": {
    "name": "ipython",
    "version": 3
   },
   "file_extension": ".py",
   "mimetype": "text/x-python",
   "name": "python",
   "nbconvert_exporter": "python",
   "pygments_lexer": "ipython3",
   "version": "3.13.2"
  }
 },
 "nbformat": 4,
 "nbformat_minor": 2
}
