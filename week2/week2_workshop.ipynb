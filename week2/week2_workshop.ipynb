{
 "cells": [
  {
   "cell_type": "markdown",
   "metadata": {},
   "source": [
    "# IFN647 Week 2 Workshop "
   ]
  },
  {
   "cell_type": "code",
   "execution_count": 8,
   "metadata": {},
   "outputs": [],
   "source": [
    "import string \n",
    "import sys"
   ]
  },
  {
   "cell_type": "markdown",
   "metadata": {},
   "source": [
    "## Task 1 - Reading in an XML Document and Printing the Item ID and number of words"
   ]
  },
  {
   "cell_type": "code",
   "execution_count": null,
   "metadata": {},
   "outputs": [
    {
     "name": "stdout",
     "output_type": "stream",
     "text": [
      "\"6146\"\n",
      "Word count: 137\n"
     ]
    }
   ],
   "source": [
    "myfile = open('wk2_workshop_data/6146.xml', 'r')\n",
    "\n",
    "start_end = False\n",
    "\n",
    "file = myfile.readlines()\n",
    "word_count = 0\n",
    "news = ''\n",
    "\n",
    "for line in file:\n",
    "    line = line.strip()\n",
    "    if start_end == False:\n",
    "        if line.startswith('<newsitem '):\n",
    "            for part in line.split():\n",
    "                if part.startswith('itemid='):\n",
    "                    docid = part.split('=')[1].split('/')[0]\n",
    "                    break\n",
    "        if line.startswith('<text>'):\n",
    "            start_end = True\n",
    "    elif line.startswith('</text>'):\n",
    "        break\n",
    "    else: \n",
    "        line = line.replace('<p>', '').replace('</p>', '')\n",
    "        news = news + line + '\\n'\n",
    "        for term in line.split():\n",
    "            word_count += 1\n",
    "\n",
    "myfile.close()\n",
    "print('Document ID:', docid)\n",
    "print('Word count:', word_count)"
   ]
  },
  {
   "cell_type": "markdown",
   "metadata": {},
   "source": [
    "## Task 2: Designing a parsing function (parse_doc(input, stops)) to read a file and represent the file as a tuple\n",
    "    (word_count, {docid:curr_doc})\n",
    "\n",
    "Where:\n",
    "- word_count is the number of words in <text> to </text>\n",
    "- docid is simple assigned by the 'itemid' in <newsitem> \n",
    "- curr_doc is a dictionary of term_frequency pairs"
   ]
  },
  {
   "cell_type": "markdown",
   "metadata": {},
   "source": [
    "Defining the `select_sentence` function"
   ]
  },
  {
   "cell_type": "code",
   "execution_count": 28,
   "metadata": {},
   "outputs": [],
   "source": [
    "def select_sentence(input_path, stopwords):\n",
    "\n",
    "    my_file = open(input_path, 'r')\n",
    "    selected_sentence = ''\n",
    "    start_end = False\n",
    "    file_ = my_file.readlines()\n",
    "\n",
    "    for line in file_:\n",
    "        line = line.strip()\n",
    "        if start_end == False:\n",
    "            if line.startswith('<text>'):\n",
    "                start_end = True\n",
    "            elif line.startswith('</text>'):\n",
    "                break\n",
    "            else:\n",
    "                if line.startswith('<p>The'):\n",
    "                    selected_sentence = line\n",
    "    \n",
    "    myfile.close()\n",
    "    return selected_sentence"
   ]
  },
  {
   "cell_type": "code",
   "execution_count": 29,
   "metadata": {},
   "outputs": [
    {
     "ename": "TypeError",
     "evalue": "expected str, bytes or os.PathLike object, not TextIOWrapper",
     "output_type": "error",
     "traceback": [
      "\u001b[0;31m---------------------------------------------------------------------------\u001b[0m",
      "\u001b[0;31mTypeError\u001b[0m                                 Traceback (most recent call last)",
      "Cell \u001b[0;32mIn[29], line 13\u001b[0m\n\u001b[1;32m     10\u001b[0m stopwords_file \u001b[38;5;241m=\u001b[39m common_stopwords_file\u001b[38;5;241m.\u001b[39mread()\u001b[38;5;241m.\u001b[39msplit(\u001b[38;5;124m'\u001b[39m\u001b[38;5;124m,\u001b[39m\u001b[38;5;124m'\u001b[39m)\n\u001b[1;32m     11\u001b[0m common_stopwords_file\u001b[38;5;241m.\u001b[39mclose()\n\u001b[0;32m---> 13\u001b[0m line \u001b[38;5;241m=\u001b[39m \u001b[43mselect_sentence\u001b[49m\u001b[43m(\u001b[49m\u001b[43mdocument_file\u001b[49m\u001b[43m,\u001b[49m\u001b[43m \u001b[49m\u001b[43mstopwords_file\u001b[49m\u001b[43m)\u001b[49m\n\u001b[1;32m     14\u001b[0m line \u001b[38;5;241m=\u001b[39m line\u001b[38;5;241m.\u001b[39mreplace(\u001b[38;5;124m'\u001b[39m\u001b[38;5;124m<p>\u001b[39m\u001b[38;5;124m'\u001b[39m, \u001b[38;5;124m'\u001b[39m\u001b[38;5;124m'\u001b[39m)\u001b[38;5;241m.\u001b[39mreplace(\u001b[38;5;124m'\u001b[39m\u001b[38;5;124m</p>\u001b[39m\u001b[38;5;124m'\u001b[39m, \u001b[38;5;124m'\u001b[39m\u001b[38;5;124m'\u001b[39m)\n\u001b[1;32m     15\u001b[0m line \u001b[38;5;241m=\u001b[39m line\u001b[38;5;241m.\u001b[39mtranslate(\u001b[38;5;28mstr\u001b[39m\u001b[38;5;241m.\u001b[39mmaketrans(\u001b[38;5;124m'\u001b[39m\u001b[38;5;124m'\u001b[39m, \u001b[38;5;124m'\u001b[39m\u001b[38;5;124m'\u001b[39m, string\u001b[38;5;241m.\u001b[39mdigits))\u001b[38;5;241m.\u001b[39mtranslate(\u001b[38;5;28mstr\u001b[39m\u001b[38;5;241m.\u001b[39mmaketrans(string\u001b[38;5;241m.\u001b[39mpunctuation, \u001b[38;5;124m'\u001b[39m\u001b[38;5;124m \u001b[39m\u001b[38;5;124m'\u001b[39m\u001b[38;5;241m*\u001b[39m\u001b[38;5;28mlen\u001b[39m(string\u001b[38;5;241m.\u001b[39mpunctuation)))\n",
      "Cell \u001b[0;32mIn[28], line 3\u001b[0m, in \u001b[0;36mselect_sentence\u001b[0;34m(input_path, stopwords)\u001b[0m\n\u001b[1;32m      1\u001b[0m \u001b[38;5;28;01mdef\u001b[39;00m\u001b[38;5;250m \u001b[39m\u001b[38;5;21mselect_sentence\u001b[39m(input_path, stopwords):\n\u001b[0;32m----> 3\u001b[0m     my_file \u001b[38;5;241m=\u001b[39m \u001b[38;5;28;43mopen\u001b[39;49m\u001b[43m(\u001b[49m\u001b[43minput_path\u001b[49m\u001b[43m,\u001b[49m\u001b[43m \u001b[49m\u001b[38;5;124;43m'\u001b[39;49m\u001b[38;5;124;43mr\u001b[39;49m\u001b[38;5;124;43m'\u001b[39;49m\u001b[43m)\u001b[49m\n\u001b[1;32m      4\u001b[0m     selected_sentence \u001b[38;5;241m=\u001b[39m \u001b[38;5;124m'\u001b[39m\u001b[38;5;124m'\u001b[39m\n\u001b[1;32m      5\u001b[0m     start_end \u001b[38;5;241m=\u001b[39m \u001b[38;5;28;01mFalse\u001b[39;00m\n",
      "File \u001b[0;32m~/Library/Python/3.13/lib/python/site-packages/IPython/core/interactiveshell.py:324\u001b[0m, in \u001b[0;36m_modified_open\u001b[0;34m(file, *args, **kwargs)\u001b[0m\n\u001b[1;32m    317\u001b[0m \u001b[38;5;28;01mif\u001b[39;00m file \u001b[38;5;129;01min\u001b[39;00m {\u001b[38;5;241m0\u001b[39m, \u001b[38;5;241m1\u001b[39m, \u001b[38;5;241m2\u001b[39m}:\n\u001b[1;32m    318\u001b[0m     \u001b[38;5;28;01mraise\u001b[39;00m \u001b[38;5;167;01mValueError\u001b[39;00m(\n\u001b[1;32m    319\u001b[0m         \u001b[38;5;124mf\u001b[39m\u001b[38;5;124m\"\u001b[39m\u001b[38;5;124mIPython won\u001b[39m\u001b[38;5;124m'\u001b[39m\u001b[38;5;124mt let you open fd=\u001b[39m\u001b[38;5;132;01m{\u001b[39;00mfile\u001b[38;5;132;01m}\u001b[39;00m\u001b[38;5;124m by default \u001b[39m\u001b[38;5;124m\"\u001b[39m\n\u001b[1;32m    320\u001b[0m         \u001b[38;5;124m\"\u001b[39m\u001b[38;5;124mas it is likely to crash IPython. If you know what you are doing, \u001b[39m\u001b[38;5;124m\"\u001b[39m\n\u001b[1;32m    321\u001b[0m         \u001b[38;5;124m\"\u001b[39m\u001b[38;5;124myou can use builtins\u001b[39m\u001b[38;5;124m'\u001b[39m\u001b[38;5;124m open.\u001b[39m\u001b[38;5;124m\"\u001b[39m\n\u001b[1;32m    322\u001b[0m     )\n\u001b[0;32m--> 324\u001b[0m \u001b[38;5;28;01mreturn\u001b[39;00m \u001b[43mio_open\u001b[49m\u001b[43m(\u001b[49m\u001b[43mfile\u001b[49m\u001b[43m,\u001b[49m\u001b[43m \u001b[49m\u001b[38;5;241;43m*\u001b[39;49m\u001b[43margs\u001b[49m\u001b[43m,\u001b[49m\u001b[43m \u001b[49m\u001b[38;5;241;43m*\u001b[39;49m\u001b[38;5;241;43m*\u001b[39;49m\u001b[43mkwargs\u001b[49m\u001b[43m)\u001b[49m\n",
      "\u001b[0;31mTypeError\u001b[0m: expected str, bytes or os.PathLike object, not TextIOWrapper"
     ]
    }
   ],
   "source": [
    "# Reading in the common-english-words.txt file\n",
    "common_stopwords_file = open('wk2_workshop_data/common-english-words.txt', 'r')\n",
    "\n",
    "document_file = open('wk2_workshop_data/6146.xml', 'r')\n",
    "document_text = document_file.read()\n",
    "document_file.close()\n",
    "\n",
    "curr_doc = {}\n",
    "\n",
    "stopwords_file = common_stopwords_file.read().split(',')\n",
    "common_stopwords_file.close()\n",
    "\n",
    "line = select_sentence(document_file, stopwords_file)\n",
    "line = line.replace('<p>', '').replace('</p>', '')\n",
    "line = line.translate(str.maketrans('', '', string.digits)).translate(str.maketrans(string.punctuation, ' '*len(string.punctuation)))\n",
    "print(line)\n",
    "words = line.split()\n",
    "print(words)\n",
    "terms = [word.lower() for word in words if len(word) > 2]\n",
    "print(terms)"
   ]
  },
  {
   "cell_type": "code",
   "execution_count": null,
   "metadata": {},
   "outputs": [],
   "source": []
  }
 ],
 "metadata": {
  "kernelspec": {
   "display_name": "Python 3",
   "language": "python",
   "name": "python3"
  },
  "language_info": {
   "codemirror_mode": {
    "name": "ipython",
    "version": 3
   },
   "file_extension": ".py",
   "mimetype": "text/x-python",
   "name": "python",
   "nbconvert_exporter": "python",
   "pygments_lexer": "ipython3",
   "version": "3.13.2"
  }
 },
 "nbformat": 4,
 "nbformat_minor": 2
}
